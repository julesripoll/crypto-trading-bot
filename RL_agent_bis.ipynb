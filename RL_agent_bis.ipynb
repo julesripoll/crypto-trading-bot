{
 "cells": [
  {
   "cell_type": "code",
   "execution_count": null,
   "source": [
    "def reward(p1, p0, action, etat, cost):\n",
    "\n",
    "    r=0\n",
    "    if etat==1: #si on \"long\"?? si on en a\n",
    "        if action=='buy':\n",
    "            r=p1-(p0+cost)\n",
    "        if action=='hold':\n",
    "            r=p1-p0\n",
    "\n",
    "    else: #si on \"short\"?? si on en possède pas quoi\n",
    "        if action=='hold':\n",
    "            r=p0-p1\n",
    "        if action=='sell':\n",
    "            r=p0-(p1+cost)\n",
    "            \n",
    "    return r"
   ],
   "outputs": [],
   "metadata": {}
  },
  {
   "cell_type": "markdown",
   "source": [
    "la on prend en compte les coûts de transactions, pour que la reward punisse le changement de position trop fréquent. ça va l'encourager à avoir du flair quoi."
   ],
   "metadata": {}
  },
  {
   "cell_type": "markdown",
   "source": [
    "l'algo apprend les paires (action,etat) maximisant la Q function."
   ],
   "metadata": {}
  },
  {
   "cell_type": "markdown",
   "source": [
    "La reward est définie dans l'environnement."
   ],
   "metadata": {}
  },
  {
   "cell_type": "markdown",
   "source": [
    "est ce que p0 et p1 sont inclus dans le state? Si on se réfère à la vidéo du mit on a besoin que de states et d'actions pour apprendre la Q function."
   ],
   "metadata": {}
  },
  {
   "cell_type": "markdown",
   "source": [
    "How does the agent learn? With a NN, that takes as input a state and computes predicted Q-values for each action possible. On prend l'action prédisant la Q value maximale et on la re input dans l'environnement pour qu'il nous foute dans un nouvel état."
   ],
   "metadata": {}
  }
 ],
 "metadata": {
  "orig_nbformat": 4,
  "language_info": {
   "name": "python",
   "version": "3.8.12"
  },
  "kernelspec": {
   "name": "python3",
   "display_name": "Python 3.8.12 64-bit ('trading': conda)"
  },
  "interpreter": {
   "hash": "8f5440d9713b916f3d328aa7ad704af8c98a6d911bc0a89d770b9e825ea2bbc1"
  }
 },
 "nbformat": 4,
 "nbformat_minor": 2
}