{
  "nbformat": 4,
  "nbformat_minor": 0,
  "metadata": {
    "colab": {
      "name": "reset.ipynb",
      "provenance": [],
      "authorship_tag": "ABX9TyM5D61JW2lSIJ8nlJtIVA8T",
      "include_colab_link": true
    },
    "kernelspec": {
      "name": "python3",
      "display_name": "Python 3"
    },
    "language_info": {
      "name": "python"
    }
  },
  "cells": [
    {
      "cell_type": "markdown",
      "metadata": {
        "id": "view-in-github",
        "colab_type": "text"
      },
      "source": [
        "<a href=\"https://colab.research.google.com/github/julesripoll/crypto-trading-bot/blob/jules_branch/reset.ipynb\" target=\"_parent\"><img src=\"https://colab.research.google.com/assets/colab-badge.svg\" alt=\"Open In Colab\"/></a>"
      ]
    },
    {
      "cell_type": "code",
      "source": [
        "import matplotlib.pyplot as plt"
      ],
      "metadata": {
        "id": "BYOZVtyXCrAM"
      },
      "execution_count": 1,
      "outputs": []
    },
    {
      "cell_type": "code",
      "execution_count": 2,
      "metadata": {
        "id": "5PXeELEV_PR9"
      },
      "outputs": [],
      "source": [
        "from typing import Tuple\n",
        "import torch\n",
        "import torch.nn as nn\n",
        "import torch.nn.functional as F\n",
        "\n",
        "\n",
        "class QNetwork(nn.Module):\n",
        "    \"\"\"Q-network for the DQN agent.\n",
        "    Parameters\n",
        "    ----------\n",
        "    state_shape: Shape of the state\n",
        "    action_size: Number of available actions\n",
        "    \"\"\"\n",
        "    def __init__(self, state_shape, action_size: int):\n",
        "        super(QNetwork, self).__init__()\n",
        "        self.maxpool = nn.MaxPool2d(kernel_size=2)\n",
        "        self.conv1 = nn.Conv2d(in_channels=state_shape[-1], out_channels=16, kernel_size=3)\n",
        "        self.conv2 = nn.Conv2d(in_channels=16, out_channels=32, kernel_size=3)\n",
        "        self.conv3 = nn.Conv2d(in_channels=32, out_channels=64, kernel_size=3)\n",
        "        self.globmaxpool = nn.AdaptiveMaxPool2d(output_size=1)\n",
        "        self.flatten = nn.Flatten()\n",
        "        self.fc1 = nn.Linear(64, 512)\n",
        "        # self.fc2 = nn.Linear(512, 256)\n",
        "        self.fc3 = nn.Linear(512, action_size)\n",
        "\n",
        "    def forward(self, x: torch.Tensor) -> torch.Tensor:\n",
        "        \"\"\"Forward pass of the network.\n",
        "        \n",
        "        Parameters\n",
        "        ----------\n",
        "        x: Tensor of shape (batch_size, *state_shape)\n",
        "        \"\"\"\n",
        "        out = torch.permute(x, (0,3,1,2))  # put channels first\n",
        "        out = F.relu(self.conv1(out))\n",
        "        # out = self.maxpool(out)\n",
        "        out = F.relu(self.conv2(out))\n",
        "        # out = self.maxpool(out)\n",
        "        out = F.relu(self.conv3(out))\n",
        "        out = self.globmaxpool(out)\n",
        "        out = self.flatten(out)\n",
        "        out = F.relu(self.fc1(out))\n",
        "        # out = F.relu(self.fc2(out))\n",
        "        out = self.fc3(out)\n",
        "        return out"
      ]
    },
    {
      "cell_type": "code",
      "source": [
        "!pip install yfinance"
      ],
      "metadata": {
        "colab": {
          "base_uri": "https://localhost:8080/"
        },
        "id": "y7tHOkb2CbpF",
        "outputId": "1887693c-5f6f-4c18-db83-aa8b3848c8a1"
      },
      "execution_count": 3,
      "outputs": [
        {
          "output_type": "stream",
          "name": "stdout",
          "text": [
            "Looking in indexes: https://pypi.org/simple, https://us-python.pkg.dev/colab-wheels/public/simple/\n",
            "Collecting yfinance\n",
            "  Downloading yfinance-0.1.72-py2.py3-none-any.whl (27 kB)\n",
            "Collecting lxml>=4.5.1\n",
            "  Downloading lxml-4.9.1-cp37-cp37m-manylinux_2_17_x86_64.manylinux2014_x86_64.manylinux_2_24_x86_64.whl (6.4 MB)\n",
            "\u001b[K     |████████████████████████████████| 6.4 MB 19.0 MB/s \n",
            "\u001b[?25hCollecting requests>=2.26\n",
            "  Downloading requests-2.28.1-py3-none-any.whl (62 kB)\n",
            "\u001b[K     |████████████████████████████████| 62 kB 1.2 MB/s \n",
            "\u001b[?25hRequirement already satisfied: multitasking>=0.0.7 in /usr/local/lib/python3.7/dist-packages (from yfinance) (0.0.10)\n",
            "Requirement already satisfied: pandas>=0.24.0 in /usr/local/lib/python3.7/dist-packages (from yfinance) (1.3.5)\n",
            "Requirement already satisfied: numpy>=1.15 in /usr/local/lib/python3.7/dist-packages (from yfinance) (1.21.6)\n",
            "Requirement already satisfied: python-dateutil>=2.7.3 in /usr/local/lib/python3.7/dist-packages (from pandas>=0.24.0->yfinance) (2.8.2)\n",
            "Requirement already satisfied: pytz>=2017.3 in /usr/local/lib/python3.7/dist-packages (from pandas>=0.24.0->yfinance) (2022.1)\n",
            "Requirement already satisfied: six>=1.5 in /usr/local/lib/python3.7/dist-packages (from python-dateutil>=2.7.3->pandas>=0.24.0->yfinance) (1.15.0)\n",
            "Requirement already satisfied: certifi>=2017.4.17 in /usr/local/lib/python3.7/dist-packages (from requests>=2.26->yfinance) (2022.6.15)\n",
            "Requirement already satisfied: idna<4,>=2.5 in /usr/local/lib/python3.7/dist-packages (from requests>=2.26->yfinance) (2.10)\n",
            "Requirement already satisfied: charset-normalizer<3,>=2 in /usr/local/lib/python3.7/dist-packages (from requests>=2.26->yfinance) (2.0.12)\n",
            "Requirement already satisfied: urllib3<1.27,>=1.21.1 in /usr/local/lib/python3.7/dist-packages (from requests>=2.26->yfinance) (1.24.3)\n",
            "Installing collected packages: requests, lxml, yfinance\n",
            "  Attempting uninstall: requests\n",
            "    Found existing installation: requests 2.23.0\n",
            "    Uninstalling requests-2.23.0:\n",
            "      Successfully uninstalled requests-2.23.0\n",
            "  Attempting uninstall: lxml\n",
            "    Found existing installation: lxml 4.2.6\n",
            "    Uninstalling lxml-4.2.6:\n",
            "      Successfully uninstalled lxml-4.2.6\n",
            "\u001b[31mERROR: pip's dependency resolver does not currently take into account all the packages that are installed. This behaviour is the source of the following dependency conflicts.\n",
            "google-colab 1.0.0 requires requests~=2.23.0, but you have requests 2.28.1 which is incompatible.\n",
            "datascience 0.10.6 requires folium==0.2.1, but you have folium 0.8.3 which is incompatible.\u001b[0m\n",
            "Successfully installed lxml-4.9.1 requests-2.28.1 yfinance-0.1.72\n"
          ]
        }
      ]
    },
    {
      "cell_type": "code",
      "source": [
        "!rm -rf /content/crypto-trading-bot"
      ],
      "metadata": {
        "id": "4HPPni0brLA9"
      },
      "execution_count": 4,
      "outputs": []
    },
    {
      "cell_type": "code",
      "source": [
        ""
      ],
      "metadata": {
        "colab": {
          "base_uri": "https://localhost:8080/"
        },
        "id": "N7EU_S8Bp5C7",
        "outputId": "508dabfd-606b-43d1-ca21-7b1fb0735495"
      },
      "execution_count": 5,
      "outputs": [
        {
          "output_type": "stream",
          "name": "stdout",
          "text": [
            "Cloning into 'crypto-trading-bot'...\n",
            "remote: Enumerating objects: 261, done.\u001b[K\n",
            "remote: Counting objects: 100% (166/166), done.\u001b[K\n",
            "remote: Compressing objects: 100% (98/98), done.\u001b[K\n",
            "remote: Total 261 (delta 98), reused 103 (delta 68), pack-reused 95\u001b[K\n",
            "Receiving objects: 100% (261/261), 2.79 MiB | 17.71 MiB/s, done.\n",
            "Resolving deltas: 100% (123/123), done.\n"
          ]
        }
      ]
    },
    {
      "cell_type": "code",
      "source": [
        "import yfinance as yf\n",
        "\n",
        "nsdq = yf.Ticker(\"^IXIC\")"
      ],
      "metadata": {
        "id": "C4oyii4yCVBQ"
      },
      "execution_count": 6,
      "outputs": []
    },
    {
      "cell_type": "code",
      "source": [
        "hist = nsdq.history(start='2020-1-1',end='2022-1-1')"
      ],
      "metadata": {
        "id": "UIWbdMRHCYg8"
      },
      "execution_count": 7,
      "outputs": []
    },
    {
      "cell_type": "code",
      "source": [
        "plt.plot(hist)"
      ],
      "metadata": {
        "colab": {
          "base_uri": "https://localhost:8080/",
          "height": 398
        },
        "id": "q9dRXzb2CnZd",
        "outputId": "9d9ea5bb-f377-4689-8df7-813d76d38322"
      },
      "execution_count": 8,
      "outputs": [
        {
          "output_type": "execute_result",
          "data": {
            "text/plain": [
              "[<matplotlib.lines.Line2D at 0x7f55d7ca0c50>,\n",
              " <matplotlib.lines.Line2D at 0x7f55d7caafd0>,\n",
              " <matplotlib.lines.Line2D at 0x7f55d7cbf1d0>,\n",
              " <matplotlib.lines.Line2D at 0x7f55d7cbf390>,\n",
              " <matplotlib.lines.Line2D at 0x7f55d7cbf550>,\n",
              " <matplotlib.lines.Line2D at 0x7f55d7cbf710>,\n",
              " <matplotlib.lines.Line2D at 0x7f55d7cbf950>]"
            ]
          },
          "metadata": {},
          "execution_count": 8
        },
        {
          "output_type": "display_data",
          "data": {
            "text/plain": [
              "<Figure size 432x288 with 1 Axes>"
            ],
            "image/png": "[encoded data removed]"
          },
          "metadata": {
            "needs_background": "light"
          }
        }
      ]
    },
    {
      "cell_type": "code",
      "source": [
        "print(hist)"
      ],
      "metadata": {
        "colab": {
          "base_uri": "https://localhost:8080/"
        },
        "id": "w45e0dk9HMYn",
        "outputId": "e8a0d797-8ac1-4d11-dfc8-5da76e7c6836"
      },
      "execution_count": 9,
      "outputs": [
        {
          "output_type": "stream",
          "name": "stdout",
          "text": [
            "                    Open          High           Low         Close  \\\n",
            "Date                                                                 \n",
            "2020-01-02   9039.459961   9093.429688   9010.889648   9092.190430   \n",
            "2020-01-03   8976.429688   9065.759766   8976.429688   9020.769531   \n",
            "2020-01-06   8943.500000   9072.410156   8943.500000   9071.469727   \n",
            "2020-01-07   9076.639648   9091.929688   9042.549805   9068.580078   \n",
            "2020-01-08   9068.030273   9168.889648   9059.379883   9129.240234   \n",
            "...                  ...           ...           ...           ...   \n",
            "2021-12-27  15696.830078  15871.400391  15696.830078  15871.259766   \n",
            "2021-12-28  15895.200195  15901.469727  15757.070312  15781.719727   \n",
            "2021-12-29  15794.919922  15821.809570  15679.849609  15766.219727   \n",
            "2021-12-30  15758.980469  15868.089844  15729.160156  15741.559570   \n",
            "2021-12-31  15722.910156  15777.429688  15643.940430  15644.969727   \n",
            "\n",
            "                Volume  Dividends  Stock Splits  \n",
            "Date                                             \n",
            "2020-01-02  2848370000          0             0  \n",
            "2020-01-03  2567400000          0             0  \n",
            "2020-01-06  2788120000          0             0  \n",
            "2020-01-07  2352850000          0             0  \n",
            "2020-01-08  2464090000          0             0  \n",
            "...                ...        ...           ...  \n",
            "2021-12-27  3730120000          0             0  \n",
            "2021-12-28  3623600000          0             0  \n",
            "2021-12-29  3694500000          0             0  \n",
            "2021-12-30  3732730000          0             0  \n",
            "2021-12-31  3379850000          0             0  \n",
            "\n",
            "[505 rows x 7 columns]\n"
          ]
        }
      ]
    },
    {
      "cell_type": "code",
      "source": [
        "#au dessus c'est full brouillon"
      ],
      "metadata": {
        "id": "oAT0Ivm_vt3-"
      },
      "execution_count": 10,
      "outputs": []
    },
    {
      "cell_type": "code",
      "source": [
        "!cd /content/crypto-trading-bot"
      ],
      "metadata": {
        "id": "VTaHtPSA1lNA"
      },
      "execution_count": 11,
      "outputs": []
    },
    {
      "cell_type": "code",
      "source": [
        "from google.colab import drive\n",
        "drive.mount('/content/gdrive')"
      ],
      "metadata": {
        "colab": {
          "base_uri": "https://localhost:8080/"
        },
        "id": "TdKwLgTt388G",
        "outputId": "e62567b2-ad84-451b-9ab4-67cf85c130ab"
      },
      "execution_count": 14,
      "outputs": [
        {
          "output_type": "stream",
          "name": "stdout",
          "text": [
            "Mounted at /content/gdrive\n"
          ]
        }
      ]
    },
    {
      "cell_type": "code",
      "source": [
        "!git clone -b jules_branch https://github.com/julesripoll/crypto-trading-bot.git #d'abord se placer au bon endroit dans gdrive pour le cloner"
      ],
      "metadata": {
        "colab": {
          "base_uri": "https://localhost:8080/",
          "height": 305
        },
        "id": "zB-pDSy51QE2",
        "outputId": "e01fa1fe-fc82-4aca-c588-16b3e30ca836"
      },
      "execution_count": 13,
      "outputs": [
        {
          "output_type": "error",
          "ename": "ModuleNotFoundError",
          "evalue": "ignored",
          "traceback": [
            "\u001b[0;31m---------------------------------------------------------------------------\u001b[0m",
            "\u001b[0;31mModuleNotFoundError\u001b[0m                       Traceback (most recent call last)",
            "\u001b[0;32m<ipython-input-13-2f08fa5582d4>\u001b[0m in \u001b[0;36m<module>\u001b[0;34m()\u001b[0m\n\u001b[0;32m----> 1\u001b[0;31m \u001b[0;32mimport\u001b[0m \u001b[0mtrade\u001b[0m\u001b[0;34m\u001b[0m\u001b[0;34m\u001b[0m\u001b[0m\n\u001b[0m",
            "\u001b[0;31mModuleNotFoundError\u001b[0m: No module named 'trade'",
            "",
            "\u001b[0;31m---------------------------------------------------------------------------\u001b[0;32m\nNOTE: If your import is failing due to a missing package, you can\nmanually install dependencies using either !pip or !apt.\n\nTo view examples of installing some common dependencies, click the\n\"Open Examples\" button below.\n\u001b[0;31m---------------------------------------------------------------------------\u001b[0m\n"
          ],
          "errorDetails": {
            "actions": [
              {
                "action": "open_url",
                "actionText": "Open Examples",
                "url": "/notebooks/snippets/importing_libraries.ipynb"
              }
            ]
          }
        }
      ]
    },
    {
      "cell_type": "code",
      "source": [
        "#cellule de constitution du jeu de données final"
      ],
      "metadata": {
        "id": "-hhpu05Lvx9A"
      },
      "execution_count": null,
      "outputs": []
    },
    {
      "cell_type": "code",
      "source": [
        "#initialisation de l'environnement avec le dataset"
      ],
      "metadata": {
        "id": "ym5JPcrCv3CT"
      },
      "execution_count": null,
      "outputs": []
    },
    {
      "cell_type": "code",
      "source": [
        "#quelques steps randoms prises dans cet environnement. faire un plot de rewards"
      ],
      "metadata": {
        "id": "IDX7gOhGv_lz"
      },
      "execution_count": null,
      "outputs": []
    },
    {
      "cell_type": "code",
      "source": [
        "#instanciation de l'agent puis entrainement. plot de reward"
      ],
      "metadata": {
        "id": "5f8MZ-J4wIFU"
      },
      "execution_count": null,
      "outputs": []
    },
    {
      "cell_type": "code",
      "source": [
        "#test de l'agent plot de rewards."
      ],
      "metadata": {
        "id": "aXPLWbH6wMqR"
      },
      "execution_count": null,
      "outputs": []
    }
  ]
}