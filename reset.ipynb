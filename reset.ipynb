{
  "nbformat": 4,
  "nbformat_minor": 0,
  "metadata": {
    "colab": {
      "name": "reset.ipynb",
      "provenance": [],
      "authorship_tag": "ABX9TyMbqTAoUjcTAcyBN4k3CNL3",
      "include_colab_link": true
    },
    "kernelspec": {
      "name": "python3",
      "display_name": "Python 3"
    },
    "language_info": {
      "name": "python"
    }
  },
  "cells": [
    {
      "cell_type": "markdown",
      "metadata": {
        "id": "view-in-github",
        "colab_type": "text"
      },
      "source": [
        "<a href=\"https://colab.research.google.com/github/julesripoll/crypto-trading-bot/blob/jules_branch/reset.ipynb\" target=\"_parent\"><img src=\"https://colab.research.google.com/assets/colab-badge.svg\" alt=\"Open In Colab\"/></a>"
      ]
    },
    {
      "cell_type": "code",
      "execution_count": null,
      "metadata": {
        "id": "5PXeELEV_PR9"
      },
      "outputs": [],
      "source": [
        "from typing import Tuple\n",
        "import torch\n",
        "import torch.nn as nn\n",
        "import torch.nn.functional as F\n",
        "\n",
        "\n",
        "class QNetwork(nn.Module):\n",
        "    \"\"\"Q-network for the DQN agent.\n",
        "    Parameters\n",
        "    ----------\n",
        "    state_shape: Shape of the state\n",
        "    action_size: Number of available actions\n",
        "    \"\"\"\n",
        "    def __init__(self, state_shape: Tuple[int, int, int], action_size: int):\n",
        "        super(QNetwork, self).__init__()\n",
        "        self.maxpool = nn.MaxPool2d(kernel_size=2)\n",
        "        self.conv1 = nn.Conv2d(in_channels=state_shape[-1], out_channels=16, kernel_size=3)\n",
        "        self.conv2 = nn.Conv2d(in_channels=16, out_channels=32, kernel_size=3)\n",
        "        self.conv3 = nn.Conv2d(in_channels=32, out_channels=64, kernel_size=3)\n",
        "        self.globmaxpool = nn.AdaptiveMaxPool2d(output_size=1)\n",
        "        self.flatten = nn.Flatten()\n",
        "        self.fc1 = nn.Linear(64, 512)\n",
        "        # self.fc2 = nn.Linear(512, 256)\n",
        "        self.fc3 = nn.Linear(512, action_size)\n",
        "\n",
        "    def forward(self, x: torch.Tensor) -> torch.Tensor:\n",
        "        \"\"\"Forward pass of the network.\n",
        "        \n",
        "        Parameters\n",
        "        ----------\n",
        "        x: Tensor of shape (batch_size, *state_shape)\n",
        "        \"\"\"\n",
        "        out = torch.permute(x, (0,3,1,2))  # put channels first\n",
        "        out = F.relu(self.conv1(out))\n",
        "        # out = self.maxpool(out)\n",
        "        out = F.relu(self.conv2(out))\n",
        "        # out = self.maxpool(out)\n",
        "        out = F.relu(self.conv3(out))\n",
        "        out = self.globmaxpool(out)\n",
        "        out = self.flatten(out)\n",
        "        out = F.relu(self.fc1(out))\n",
        "        # out = F.relu(self.fc2(out))\n",
        "        out = self.fc3(out)\n",
        "        return out"
      ]
    }
  ]
}