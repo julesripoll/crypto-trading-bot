{
 "cells": [
  {
   "cell_type": "markdown",
   "source": [
    "Test pour voir si mon push est passé. bis"
   ],
   "metadata": {}
  },
  {
   "cell_type": "markdown",
   "source": [
    "Notebook inspiré sur de nombreux points par l'article suivant https://towardsdatascience.com/building-rnn-lstm-and-gru-for-time-series-using-pytorch-a46e5b094e7b"
   ],
   "metadata": {}
  },
  {
   "cell_type": "markdown",
   "source": [
    "idéalement le notebook en tant que tel sans avoir à associer d'autres trucs. Il importe le dataset etc."
   ],
   "metadata": {}
  },
  {
   "cell_type": "code",
   "execution_count": 153,
   "source": [
    "import numpy as np\n",
    "import tensorflow as tf\n",
    "from tensorflow import keras\n",
    "from tensorflow.keras import layers\n",
    "import pandas as pd\n",
    "import matplotlib.pyplot as plt\n",
    "import tensorflow_datasets as tfds\n",
    "from sklearn.model_selection import train_test_split\n",
    "from sklearn.preprocessing import MinMaxScaler\n",
    "from sklearn.preprocessing import StandardScaler"
   ],
   "outputs": [],
   "metadata": {}
  },
  {
   "cell_type": "code",
   "execution_count": 154,
   "source": [
    "#df1=pd.read_csv(\"https://www.cryptodatadownload.com/cdd/HitBTC_BTCUSD_d.csv\", sep=\",\")\n",
    "#df1.tail()"
   ],
   "outputs": [],
   "metadata": {}
  },
  {
   "cell_type": "code",
   "execution_count": 155,
   "source": [
    "df=pd.read_csv(\"./Data/HitBTC_ETHUSD_1h.csv\", sep=\",\")\n",
    "df = df.rename(columns={'Close': 'value'})\n",
    "new=df['value']\n",
    "new=pd.DataFrame({'value':new.values})\n",
    "print(new[0:8])"
   ],
   "outputs": [
    {
     "output_type": "stream",
     "name": "stdout",
     "text": [
      "    value\n",
      "0  534.73\n",
      "1  533.85\n",
      "2  532.83\n",
      "3  524.71\n",
      "4  519.44\n",
      "5  528.51\n",
      "6  510.56\n",
      "7  519.92\n"
     ]
    }
   ],
   "metadata": {}
  },
  {
   "cell_type": "markdown",
   "source": [
    "# Génération de features\n",
    "\n",
    "Mise en forme séquentielle des données. Le but des cellules à venir est d'arriver à un jeu de la forme (batch,timesteps,features). Dans notre cas batch sera l'intégralité des individus du dataset, timesteps sera 100 (cf input dim), ie on va prédire à t+1 basé sur t, t-1,...,t-99 ; et on aura une feature : le prix de la crypto."
   ],
   "metadata": {}
  },
  {
   "cell_type": "code",
   "execution_count": 156,
   "source": [
    "def generate_dataset(df, nb_timesteps):\n",
    "    df_n=df.copy()\n",
    "    for k in range(1,nb_timesteps): #à chaque ité on ajoute une colonne\n",
    "        df_n[f\"t-{k}\"]=df_n[\"value\"].shift(k)\n",
    "    df_n=(df_n[nb_timesteps-1:][:])\n",
    "    cols=(df_n.columns.to_list())[::-1]\n",
    "    df_n=df_n[cols]\n",
    "    return df_n\n",
    "\n",
    "input_dim = 100\n",
    "\n",
    "df_generated = generate_dataset(new, input_dim)\n",
    "df_generated"
   ],
   "outputs": [
    {
     "output_type": "execute_result",
     "data": {
      "text/html": [
       "<div>\n",
       "<style scoped>\n",
       "    .dataframe tbody tr th:only-of-type {\n",
       "        vertical-align: middle;\n",
       "    }\n",
       "\n",
       "    .dataframe tbody tr th {\n",
       "        vertical-align: top;\n",
       "    }\n",
       "\n",
       "    .dataframe thead th {\n",
       "        text-align: right;\n",
       "    }\n",
       "</style>\n",
       "<table border=\"1\" class=\"dataframe\">\n",
       "  <thead>\n",
       "    <tr style=\"text-align: right;\">\n",
       "      <th></th>\n",
       "      <th>t-99</th>\n",
       "      <th>t-98</th>\n",
       "      <th>t-97</th>\n",
       "      <th>t-96</th>\n",
       "      <th>t-95</th>\n",
       "      <th>t-94</th>\n",
       "      <th>t-93</th>\n",
       "      <th>t-92</th>\n",
       "      <th>t-91</th>\n",
       "      <th>t-90</th>\n",
       "      <th>...</th>\n",
       "      <th>t-9</th>\n",
       "      <th>t-8</th>\n",
       "      <th>t-7</th>\n",
       "      <th>t-6</th>\n",
       "      <th>t-5</th>\n",
       "      <th>t-4</th>\n",
       "      <th>t-3</th>\n",
       "      <th>t-2</th>\n",
       "      <th>t-1</th>\n",
       "      <th>value</th>\n",
       "    </tr>\n",
       "  </thead>\n",
       "  <tbody>\n",
       "    <tr>\n",
       "      <th>99</th>\n",
       "      <td>534.73</td>\n",
       "      <td>533.85</td>\n",
       "      <td>532.83</td>\n",
       "      <td>524.71</td>\n",
       "      <td>519.44</td>\n",
       "      <td>528.51</td>\n",
       "      <td>510.56</td>\n",
       "      <td>519.92</td>\n",
       "      <td>528.24</td>\n",
       "      <td>542.16</td>\n",
       "      <td>...</td>\n",
       "      <td>608.18</td>\n",
       "      <td>610.00</td>\n",
       "      <td>608.87</td>\n",
       "      <td>609.69</td>\n",
       "      <td>607.31</td>\n",
       "      <td>610.17</td>\n",
       "      <td>610.64</td>\n",
       "      <td>614.42</td>\n",
       "      <td>612.48</td>\n",
       "      <td>613.36</td>\n",
       "    </tr>\n",
       "    <tr>\n",
       "      <th>100</th>\n",
       "      <td>533.85</td>\n",
       "      <td>532.83</td>\n",
       "      <td>524.71</td>\n",
       "      <td>519.44</td>\n",
       "      <td>528.51</td>\n",
       "      <td>510.56</td>\n",
       "      <td>519.92</td>\n",
       "      <td>528.24</td>\n",
       "      <td>542.16</td>\n",
       "      <td>536.90</td>\n",
       "      <td>...</td>\n",
       "      <td>610.00</td>\n",
       "      <td>608.87</td>\n",
       "      <td>609.69</td>\n",
       "      <td>607.31</td>\n",
       "      <td>610.17</td>\n",
       "      <td>610.64</td>\n",
       "      <td>614.42</td>\n",
       "      <td>612.48</td>\n",
       "      <td>613.36</td>\n",
       "      <td>614.50</td>\n",
       "    </tr>\n",
       "    <tr>\n",
       "      <th>101</th>\n",
       "      <td>532.83</td>\n",
       "      <td>524.71</td>\n",
       "      <td>519.44</td>\n",
       "      <td>528.51</td>\n",
       "      <td>510.56</td>\n",
       "      <td>519.92</td>\n",
       "      <td>528.24</td>\n",
       "      <td>542.16</td>\n",
       "      <td>536.90</td>\n",
       "      <td>540.16</td>\n",
       "      <td>...</td>\n",
       "      <td>608.87</td>\n",
       "      <td>609.69</td>\n",
       "      <td>607.31</td>\n",
       "      <td>610.17</td>\n",
       "      <td>610.64</td>\n",
       "      <td>614.42</td>\n",
       "      <td>612.48</td>\n",
       "      <td>613.36</td>\n",
       "      <td>614.50</td>\n",
       "      <td>606.40</td>\n",
       "    </tr>\n",
       "    <tr>\n",
       "      <th>102</th>\n",
       "      <td>524.71</td>\n",
       "      <td>519.44</td>\n",
       "      <td>528.51</td>\n",
       "      <td>510.56</td>\n",
       "      <td>519.92</td>\n",
       "      <td>528.24</td>\n",
       "      <td>542.16</td>\n",
       "      <td>536.90</td>\n",
       "      <td>540.16</td>\n",
       "      <td>565.28</td>\n",
       "      <td>...</td>\n",
       "      <td>609.69</td>\n",
       "      <td>607.31</td>\n",
       "      <td>610.17</td>\n",
       "      <td>610.64</td>\n",
       "      <td>614.42</td>\n",
       "      <td>612.48</td>\n",
       "      <td>613.36</td>\n",
       "      <td>614.50</td>\n",
       "      <td>606.40</td>\n",
       "      <td>606.73</td>\n",
       "    </tr>\n",
       "    <tr>\n",
       "      <th>103</th>\n",
       "      <td>519.44</td>\n",
       "      <td>528.51</td>\n",
       "      <td>510.56</td>\n",
       "      <td>519.92</td>\n",
       "      <td>528.24</td>\n",
       "      <td>542.16</td>\n",
       "      <td>536.90</td>\n",
       "      <td>540.16</td>\n",
       "      <td>565.28</td>\n",
       "      <td>569.04</td>\n",
       "      <td>...</td>\n",
       "      <td>607.31</td>\n",
       "      <td>610.17</td>\n",
       "      <td>610.64</td>\n",
       "      <td>614.42</td>\n",
       "      <td>612.48</td>\n",
       "      <td>613.36</td>\n",
       "      <td>614.50</td>\n",
       "      <td>606.40</td>\n",
       "      <td>606.73</td>\n",
       "      <td>606.78</td>\n",
       "    </tr>\n",
       "    <tr>\n",
       "      <th>...</th>\n",
       "      <td>...</td>\n",
       "      <td>...</td>\n",
       "      <td>...</td>\n",
       "      <td>...</td>\n",
       "      <td>...</td>\n",
       "      <td>...</td>\n",
       "      <td>...</td>\n",
       "      <td>...</td>\n",
       "      <td>...</td>\n",
       "      <td>...</td>\n",
       "      <td>...</td>\n",
       "      <td>...</td>\n",
       "      <td>...</td>\n",
       "      <td>...</td>\n",
       "      <td>...</td>\n",
       "      <td>...</td>\n",
       "      <td>...</td>\n",
       "      <td>...</td>\n",
       "      <td>...</td>\n",
       "      <td>...</td>\n",
       "      <td>...</td>\n",
       "    </tr>\n",
       "    <tr>\n",
       "      <th>5428</th>\n",
       "      <td>307.48</td>\n",
       "      <td>307.60</td>\n",
       "      <td>306.41</td>\n",
       "      <td>304.86</td>\n",
       "      <td>304.77</td>\n",
       "      <td>305.11</td>\n",
       "      <td>304.40</td>\n",
       "      <td>305.82</td>\n",
       "      <td>305.83</td>\n",
       "      <td>305.45</td>\n",
       "      <td>...</td>\n",
       "      <td>297.10</td>\n",
       "      <td>297.81</td>\n",
       "      <td>296.56</td>\n",
       "      <td>296.20</td>\n",
       "      <td>296.89</td>\n",
       "      <td>295.13</td>\n",
       "      <td>297.56</td>\n",
       "      <td>297.13</td>\n",
       "      <td>295.18</td>\n",
       "      <td>295.62</td>\n",
       "    </tr>\n",
       "    <tr>\n",
       "      <th>5429</th>\n",
       "      <td>307.60</td>\n",
       "      <td>306.41</td>\n",
       "      <td>304.86</td>\n",
       "      <td>304.77</td>\n",
       "      <td>305.11</td>\n",
       "      <td>304.40</td>\n",
       "      <td>305.82</td>\n",
       "      <td>305.83</td>\n",
       "      <td>305.45</td>\n",
       "      <td>306.11</td>\n",
       "      <td>...</td>\n",
       "      <td>297.81</td>\n",
       "      <td>296.56</td>\n",
       "      <td>296.20</td>\n",
       "      <td>296.89</td>\n",
       "      <td>295.13</td>\n",
       "      <td>297.56</td>\n",
       "      <td>297.13</td>\n",
       "      <td>295.18</td>\n",
       "      <td>295.62</td>\n",
       "      <td>293.98</td>\n",
       "    </tr>\n",
       "    <tr>\n",
       "      <th>5430</th>\n",
       "      <td>306.41</td>\n",
       "      <td>304.86</td>\n",
       "      <td>304.77</td>\n",
       "      <td>305.11</td>\n",
       "      <td>304.40</td>\n",
       "      <td>305.82</td>\n",
       "      <td>305.83</td>\n",
       "      <td>305.45</td>\n",
       "      <td>306.11</td>\n",
       "      <td>305.54</td>\n",
       "      <td>...</td>\n",
       "      <td>296.56</td>\n",
       "      <td>296.20</td>\n",
       "      <td>296.89</td>\n",
       "      <td>295.13</td>\n",
       "      <td>297.56</td>\n",
       "      <td>297.13</td>\n",
       "      <td>295.18</td>\n",
       "      <td>295.62</td>\n",
       "      <td>293.98</td>\n",
       "      <td>295.17</td>\n",
       "    </tr>\n",
       "    <tr>\n",
       "      <th>5431</th>\n",
       "      <td>304.86</td>\n",
       "      <td>304.77</td>\n",
       "      <td>305.11</td>\n",
       "      <td>304.40</td>\n",
       "      <td>305.82</td>\n",
       "      <td>305.83</td>\n",
       "      <td>305.45</td>\n",
       "      <td>306.11</td>\n",
       "      <td>305.54</td>\n",
       "      <td>307.40</td>\n",
       "      <td>...</td>\n",
       "      <td>296.20</td>\n",
       "      <td>296.89</td>\n",
       "      <td>295.13</td>\n",
       "      <td>297.56</td>\n",
       "      <td>297.13</td>\n",
       "      <td>295.18</td>\n",
       "      <td>295.62</td>\n",
       "      <td>293.98</td>\n",
       "      <td>295.17</td>\n",
       "      <td>294.34</td>\n",
       "    </tr>\n",
       "    <tr>\n",
       "      <th>5432</th>\n",
       "      <td>304.77</td>\n",
       "      <td>305.11</td>\n",
       "      <td>304.40</td>\n",
       "      <td>305.82</td>\n",
       "      <td>305.83</td>\n",
       "      <td>305.45</td>\n",
       "      <td>306.11</td>\n",
       "      <td>305.54</td>\n",
       "      <td>307.40</td>\n",
       "      <td>307.59</td>\n",
       "      <td>...</td>\n",
       "      <td>296.89</td>\n",
       "      <td>295.13</td>\n",
       "      <td>297.56</td>\n",
       "      <td>297.13</td>\n",
       "      <td>295.18</td>\n",
       "      <td>295.62</td>\n",
       "      <td>293.98</td>\n",
       "      <td>295.17</td>\n",
       "      <td>294.34</td>\n",
       "      <td>293.95</td>\n",
       "    </tr>\n",
       "  </tbody>\n",
       "</table>\n",
       "<p>5334 rows × 100 columns</p>\n",
       "</div>"
      ],
      "text/plain": [
       "        t-99    t-98    t-97    t-96    t-95    t-94    t-93    t-92    t-91  \\\n",
       "99    534.73  533.85  532.83  524.71  519.44  528.51  510.56  519.92  528.24   \n",
       "100   533.85  532.83  524.71  519.44  528.51  510.56  519.92  528.24  542.16   \n",
       "101   532.83  524.71  519.44  528.51  510.56  519.92  528.24  542.16  536.90   \n",
       "102   524.71  519.44  528.51  510.56  519.92  528.24  542.16  536.90  540.16   \n",
       "103   519.44  528.51  510.56  519.92  528.24  542.16  536.90  540.16  565.28   \n",
       "...      ...     ...     ...     ...     ...     ...     ...     ...     ...   \n",
       "5428  307.48  307.60  306.41  304.86  304.77  305.11  304.40  305.82  305.83   \n",
       "5429  307.60  306.41  304.86  304.77  305.11  304.40  305.82  305.83  305.45   \n",
       "5430  306.41  304.86  304.77  305.11  304.40  305.82  305.83  305.45  306.11   \n",
       "5431  304.86  304.77  305.11  304.40  305.82  305.83  305.45  306.11  305.54   \n",
       "5432  304.77  305.11  304.40  305.82  305.83  305.45  306.11  305.54  307.40   \n",
       "\n",
       "        t-90  ...     t-9     t-8     t-7     t-6     t-5     t-4     t-3  \\\n",
       "99    542.16  ...  608.18  610.00  608.87  609.69  607.31  610.17  610.64   \n",
       "100   536.90  ...  610.00  608.87  609.69  607.31  610.17  610.64  614.42   \n",
       "101   540.16  ...  608.87  609.69  607.31  610.17  610.64  614.42  612.48   \n",
       "102   565.28  ...  609.69  607.31  610.17  610.64  614.42  612.48  613.36   \n",
       "103   569.04  ...  607.31  610.17  610.64  614.42  612.48  613.36  614.50   \n",
       "...      ...  ...     ...     ...     ...     ...     ...     ...     ...   \n",
       "5428  305.45  ...  297.10  297.81  296.56  296.20  296.89  295.13  297.56   \n",
       "5429  306.11  ...  297.81  296.56  296.20  296.89  295.13  297.56  297.13   \n",
       "5430  305.54  ...  296.56  296.20  296.89  295.13  297.56  297.13  295.18   \n",
       "5431  307.40  ...  296.20  296.89  295.13  297.56  297.13  295.18  295.62   \n",
       "5432  307.59  ...  296.89  295.13  297.56  297.13  295.18  295.62  293.98   \n",
       "\n",
       "         t-2     t-1   value  \n",
       "99    614.42  612.48  613.36  \n",
       "100   612.48  613.36  614.50  \n",
       "101   613.36  614.50  606.40  \n",
       "102   614.50  606.40  606.73  \n",
       "103   606.40  606.73  606.78  \n",
       "...      ...     ...     ...  \n",
       "5428  297.13  295.18  295.62  \n",
       "5429  295.18  295.62  293.98  \n",
       "5430  295.62  293.98  295.17  \n",
       "5431  293.98  295.17  294.34  \n",
       "5432  295.17  294.34  293.95  \n",
       "\n",
       "[5334 rows x 100 columns]"
      ]
     },
     "metadata": {},
     "execution_count": 156
    }
   ],
   "metadata": {}
  },
  {
   "cell_type": "markdown",
   "source": [
    "# Feature engineering\n",
    "\n",
    "Pour quand t'auras le temps bg"
   ],
   "metadata": {}
  },
  {
   "cell_type": "code",
   "execution_count": null,
   "source": [],
   "outputs": [],
   "metadata": {}
  },
  {
   "cell_type": "markdown",
   "source": [
    "# Jeux d'entrainement et test"
   ],
   "metadata": {}
  },
  {
   "cell_type": "markdown",
   "source": [
    "Très important ici : on deal avec des données séquentielles, il faut donc surtout pas shuffle au moment de la création des jeux de données. L'ordre doit rester le même."
   ],
   "metadata": {}
  },
  {
   "cell_type": "code",
   "execution_count": 157,
   "source": [
    "output_timesteps=10 #nombre de prédictions faites à la suite. Time step of the output.\n",
    "batch_size = 64\n",
    "n_epochs = 10"
   ],
   "outputs": [],
   "metadata": {}
  },
  {
   "cell_type": "code",
   "execution_count": 158,
   "source": [
    "def feature_label_split(df, target_cols):\n",
    "    y = df[target_cols] #la variable à fitter est la première, on aura donc target col = value\n",
    "    X = df.drop(columns=target_cols)\n",
    "    scalerX = MinMaxScaler(feature_range=(0,1))\n",
    "    scalerY = MinMaxScaler(feature_range=(0,1))\n",
    "    X_scaled=scalerX.fit_transform(X)\n",
    "    y_scaled=scalerY.fit_transform(y)\n",
    "    return X_scaled, y_scaled, scalerX, scalerY\n",
    "\n",
    "def train_val_test_split(df, target_cols, test_ratio):\n",
    "    val_ratio = test_ratio / (1 - test_ratio)\n",
    "    X, y, scalerX, scalerY = feature_label_split(df, target_cols)\n",
    "\n",
    "    X_train, X_test, y_train, y_test = train_test_split(X, y, test_size=test_ratio, shuffle=False)\n",
    "    X_train, X_val, y_train, y_val = train_test_split(X_train, y_train, test_size=val_ratio, shuffle=False)\n",
    "    print(y_test.shape)\n",
    "    return X_train, X_val, X_test, y_train, y_val, y_test, scalerX, scalerY\n",
    "\n",
    "\n",
    "cols=df_generated.columns.to_list()\n",
    "cols=cols[len(cols)-output_timesteps:]\n",
    "X_train, X_val, X_test, y_train, y_val, y_test, scalerX, scalerY = train_val_test_split(df_generated, cols, 0.2)"
   ],
   "outputs": [
    {
     "output_type": "stream",
     "name": "stdout",
     "text": [
      "(1067, 10)\n"
     ]
    }
   ],
   "metadata": {}
  },
  {
   "cell_type": "markdown",
   "source": [
    "Ici on prend qu'une colonne à fitter. Gênant pour ensuite générer des séquences prédites plus longues?"
   ],
   "metadata": {}
  },
  {
   "cell_type": "markdown",
   "source": [
    "# RNN"
   ],
   "metadata": {}
  },
  {
   "cell_type": "markdown",
   "source": [
    "Pour entrainer un modèle tensorflow il est préférable d'avoir des données du type tensor."
   ],
   "metadata": {}
  },
  {
   "cell_type": "code",
   "execution_count": 159,
   "source": [
    "X_train=tf.convert_to_tensor(X_train)\n",
    "X_train=tf.reshape(X_train,shape=(X_train.shape[0],X_train.shape[1],1))\n",
    "\n",
    "X_val=tf.convert_to_tensor(X_val)\n",
    "X_val=tf.reshape(X_val,shape=(X_val.shape[0],X_val.shape[1],1))\n",
    "\n",
    "X_test=tf.convert_to_tensor(X_test)\n",
    "X_test=tf.reshape(X_test,shape=(X_test.shape[0],X_test.shape[1],1))\n",
    "\n",
    "y_train=tf.convert_to_tensor(y_train)\n",
    "y_train=tf.reshape(y_train,shape=(y_train.shape[0],y_train.shape[1],1))\n",
    "\n",
    "y_val=tf.convert_to_tensor(y_val)\n",
    "y_val=tf.reshape(y_val,shape=(y_val.shape[0],y_val.shape[1],1))\n",
    "\n",
    "y_test=tf.convert_to_tensor(y_test)\n",
    "y_test=tf.reshape(y_test,shape=(y_test.shape[0],y_test.shape[1],1))"
   ],
   "outputs": [],
   "metadata": {}
  },
  {
   "cell_type": "code",
   "execution_count": 160,
   "source": [
    "print(X_train.shape, X_val.shape, X_test.shape, y_train.shape, y_val.shape, y_test.shape)"
   ],
   "outputs": [
    {
     "output_type": "stream",
     "name": "stdout",
     "text": [
      "(3200, 90, 1) (1067, 90, 1) (1067, 90, 1) (3200, 10, 1) (1067, 10, 1) (1067, 10, 1)\n"
     ]
    }
   ],
   "metadata": {}
  },
  {
   "cell_type": "markdown",
   "source": [
    "units (# de neurones) n'a pas besoin d'être de la même longueur que la séquence."
   ],
   "metadata": {}
  },
  {
   "cell_type": "code",
   "execution_count": 161,
   "source": [
    "model = keras.Sequential()\n",
    "model.add(layers.SimpleRNN(32, input_shape=(X_train.shape[1],1), return_sequences=True))\n",
    "model.add(layers.SimpleRNN(32))\n",
    "model.add(layers.Dense(32))\n",
    "model.add(layers.Dense(32))\n",
    "model.add(layers.Dense(32))\n",
    "model.add(layers.Dense(32))\n",
    "model.add(layers.Dense(32))\n",
    "model.add(layers.Dense(output_timesteps))\n",
    "model.summary()"
   ],
   "outputs": [
    {
     "output_type": "stream",
     "name": "stdout",
     "text": [
      "Model: \"sequential_10\"\n",
      "_________________________________________________________________\n",
      " Layer (type)                Output Shape              Param #   \n",
      "=================================================================\n",
      " simple_rnn_23 (SimpleRNN)   (None, 90, 32)            1088      \n",
      "                                                                 \n",
      " simple_rnn_24 (SimpleRNN)   (None, 32)                2080      \n",
      "                                                                 \n",
      " dense_24 (Dense)            (None, 32)                1056      \n",
      "                                                                 \n",
      " dense_25 (Dense)            (None, 32)                1056      \n",
      "                                                                 \n",
      " dense_26 (Dense)            (None, 32)                1056      \n",
      "                                                                 \n",
      " dense_27 (Dense)            (None, 32)                1056      \n",
      "                                                                 \n",
      " dense_28 (Dense)            (None, 32)                1056      \n",
      "                                                                 \n",
      " dense_29 (Dense)            (None, 10)                330       \n",
      "                                                                 \n",
      "=================================================================\n",
      "Total params: 8,778\n",
      "Trainable params: 8,778\n",
      "Non-trainable params: 0\n",
      "_________________________________________________________________\n"
     ]
    }
   ],
   "metadata": {}
  },
  {
   "cell_type": "code",
   "execution_count": 162,
   "source": [
    "with tf.device('/cpu:0'):  #sinon ça fout la merde avec le cpu.\n",
    "\n",
    "    model.compile(\n",
    "        loss=keras.losses.MeanSquaredError(),\n",
    "        optimizer='rmsprop',\n",
    "        metrics=[tf.metrics.MeanAbsoluteError()]\n",
    "    )\n",
    "\n",
    "\n",
    "    history=model.fit(\n",
    "        X_train, y_train, validation_data=(X_val, y_val), batch_size=batch_size, epochs=n_epochs\n",
    "    )"
   ],
   "outputs": [
    {
     "output_type": "stream",
     "name": "stdout",
     "text": [
      "Epoch 1/10\n"
     ]
    },
    {
     "output_type": "stream",
     "name": "stderr",
     "text": [
      "2022-03-07 15:07:43.439696: I tensorflow/core/grappler/optimizers/custom_graph_optimizer_registry.cc:112] Plugin optimizer for device_type GPU is enabled.\n"
     ]
    },
    {
     "output_type": "stream",
     "name": "stdout",
     "text": [
      "50/50 [==============================] - ETA: 0s - loss: 0.0200 - mean_absolute_error: 0.0939"
     ]
    },
    {
     "output_type": "stream",
     "name": "stderr",
     "text": [
      "2022-03-07 15:07:47.301747: I tensorflow/core/grappler/optimizers/custom_graph_optimizer_registry.cc:112] Plugin optimizer for device_type GPU is enabled.\n"
     ]
    },
    {
     "output_type": "stream",
     "name": "stdout",
     "text": [
      "50/50 [==============================] - 5s 95ms/step - loss: 0.0200 - mean_absolute_error: 0.0939 - val_loss: 0.0509 - val_mean_absolute_error: 0.1928\n",
      "Epoch 2/10\n",
      "50/50 [==============================] - 4s 83ms/step - loss: 0.0060 - mean_absolute_error: 0.0624 - val_loss: 0.0242 - val_mean_absolute_error: 0.1265\n",
      "Epoch 3/10\n",
      "50/50 [==============================] - 4s 80ms/step - loss: 0.0047 - mean_absolute_error: 0.0550 - val_loss: 0.0100 - val_mean_absolute_error: 0.0809\n",
      "Epoch 4/10\n",
      "50/50 [==============================] - 4s 80ms/step - loss: 0.0031 - mean_absolute_error: 0.0433 - val_loss: 0.0042 - val_mean_absolute_error: 0.0544\n",
      "Epoch 5/10\n",
      "50/50 [==============================] - 4s 80ms/step - loss: 0.0027 - mean_absolute_error: 0.0425 - val_loss: 0.0044 - val_mean_absolute_error: 0.0567\n",
      "Epoch 6/10\n",
      "50/50 [==============================] - 4s 80ms/step - loss: 0.0022 - mean_absolute_error: 0.0373 - val_loss: 0.0024 - val_mean_absolute_error: 0.0393\n",
      "Epoch 7/10\n",
      "50/50 [==============================] - 4s 80ms/step - loss: 0.0020 - mean_absolute_error: 0.0357 - val_loss: 0.0023 - val_mean_absolute_error: 0.0398\n",
      "Epoch 8/10\n",
      "50/50 [==============================] - 4s 80ms/step - loss: 0.0018 - mean_absolute_error: 0.0330 - val_loss: 0.0036 - val_mean_absolute_error: 0.0452\n",
      "Epoch 9/10\n",
      "50/50 [==============================] - 4s 79ms/step - loss: 0.0016 - mean_absolute_error: 0.0323 - val_loss: 0.0045 - val_mean_absolute_error: 0.0521\n",
      "Epoch 10/10\n",
      "50/50 [==============================] - 4s 80ms/step - loss: 0.0015 - mean_absolute_error: 0.0305 - val_loss: 0.0015 - val_mean_absolute_error: 0.0275\n"
     ]
    }
   ],
   "metadata": {}
  },
  {
   "cell_type": "code",
   "execution_count": 163,
   "source": [
    "loss_train = history.history['loss']\n",
    "loss_val = history.history['val_loss']\n",
    "epochs = range(0,n_epochs)\n",
    "plt.plot(epochs, loss_train, 'g', label='Training loss')\n",
    "plt.plot(epochs, loss_val, 'b', label='validation loss')\n",
    "plt.title('Training and Validation loss')\n",
    "plt.xlabel('Epochs')\n",
    "plt.ylabel('Loss')\n",
    "plt.legend()\n",
    "plt.show()"
   ],
   "outputs": [
    {
     "output_type": "display_data",
     "data": {
      "image/png": "[encoded data removed]",
      "text/plain": [
       "<Figure size 432x288 with 1 Axes>"
      ]
     },
     "metadata": {
      "needs_background": "light"
     }
    }
   ],
   "metadata": {}
  },
  {
   "cell_type": "code",
   "execution_count": 164,
   "source": [
    "y_pred=model(X_test)"
   ],
   "outputs": [],
   "metadata": {}
  },
  {
   "cell_type": "markdown",
   "source": [
    "on va rescale les données."
   ],
   "metadata": {}
  },
  {
   "cell_type": "code",
   "execution_count": 165,
   "source": [
    "y_pred=scalerY.inverse_transform(y_pred)"
   ],
   "outputs": [],
   "metadata": {}
  },
  {
   "cell_type": "code",
   "execution_count": 166,
   "source": [
    "colsnames=[]\n",
    "for i in range(0,100):\n",
    "    colsnames.append('T-{}'.format(i))\n",
    "\n",
    "colsnames"
   ],
   "outputs": [
    {
     "output_type": "execute_result",
     "data": {
      "text/plain": [
       "['T-0',\n",
       " 'T-1',\n",
       " 'T-2',\n",
       " 'T-3',\n",
       " 'T-4',\n",
       " 'T-5',\n",
       " 'T-6',\n",
       " 'T-7',\n",
       " 'T-8',\n",
       " 'T-9',\n",
       " 'T-10',\n",
       " 'T-11',\n",
       " 'T-12',\n",
       " 'T-13',\n",
       " 'T-14',\n",
       " 'T-15',\n",
       " 'T-16',\n",
       " 'T-17',\n",
       " 'T-18',\n",
       " 'T-19',\n",
       " 'T-20',\n",
       " 'T-21',\n",
       " 'T-22',\n",
       " 'T-23',\n",
       " 'T-24',\n",
       " 'T-25',\n",
       " 'T-26',\n",
       " 'T-27',\n",
       " 'T-28',\n",
       " 'T-29',\n",
       " 'T-30',\n",
       " 'T-31',\n",
       " 'T-32',\n",
       " 'T-33',\n",
       " 'T-34',\n",
       " 'T-35',\n",
       " 'T-36',\n",
       " 'T-37',\n",
       " 'T-38',\n",
       " 'T-39',\n",
       " 'T-40',\n",
       " 'T-41',\n",
       " 'T-42',\n",
       " 'T-43',\n",
       " 'T-44',\n",
       " 'T-45',\n",
       " 'T-46',\n",
       " 'T-47',\n",
       " 'T-48',\n",
       " 'T-49',\n",
       " 'T-50',\n",
       " 'T-51',\n",
       " 'T-52',\n",
       " 'T-53',\n",
       " 'T-54',\n",
       " 'T-55',\n",
       " 'T-56',\n",
       " 'T-57',\n",
       " 'T-58',\n",
       " 'T-59',\n",
       " 'T-60',\n",
       " 'T-61',\n",
       " 'T-62',\n",
       " 'T-63',\n",
       " 'T-64',\n",
       " 'T-65',\n",
       " 'T-66',\n",
       " 'T-67',\n",
       " 'T-68',\n",
       " 'T-69',\n",
       " 'T-70',\n",
       " 'T-71',\n",
       " 'T-72',\n",
       " 'T-73',\n",
       " 'T-74',\n",
       " 'T-75',\n",
       " 'T-76',\n",
       " 'T-77',\n",
       " 'T-78',\n",
       " 'T-79',\n",
       " 'T-80',\n",
       " 'T-81',\n",
       " 'T-82',\n",
       " 'T-83',\n",
       " 'T-84',\n",
       " 'T-85',\n",
       " 'T-86',\n",
       " 'T-87',\n",
       " 'T-88',\n",
       " 'T-89',\n",
       " 'T-90',\n",
       " 'T-91',\n",
       " 'T-92',\n",
       " 'T-93',\n",
       " 'T-94',\n",
       " 'T-95',\n",
       " 'T-96',\n",
       " 'T-97',\n",
       " 'T-98',\n",
       " 'T-99']"
      ]
     },
     "metadata": {},
     "execution_count": 166
    }
   ],
   "metadata": {}
  },
  {
   "cell_type": "code",
   "execution_count": 167,
   "source": [
    "y_pred=pd.DataFrame(y_pred)\n",
    "y_pred.head()"
   ],
   "outputs": [
    {
     "output_type": "execute_result",
     "data": {
      "text/html": [
       "<div>\n",
       "<style scoped>\n",
       "    .dataframe tbody tr th:only-of-type {\n",
       "        vertical-align: middle;\n",
       "    }\n",
       "\n",
       "    .dataframe tbody tr th {\n",
       "        vertical-align: top;\n",
       "    }\n",
       "\n",
       "    .dataframe thead th {\n",
       "        text-align: right;\n",
       "    }\n",
       "</style>\n",
       "<table border=\"1\" class=\"dataframe\">\n",
       "  <thead>\n",
       "    <tr style=\"text-align: right;\">\n",
       "      <th></th>\n",
       "      <th>0</th>\n",
       "      <th>1</th>\n",
       "      <th>2</th>\n",
       "      <th>3</th>\n",
       "      <th>4</th>\n",
       "      <th>5</th>\n",
       "      <th>6</th>\n",
       "      <th>7</th>\n",
       "      <th>8</th>\n",
       "      <th>9</th>\n",
       "    </tr>\n",
       "  </thead>\n",
       "  <tbody>\n",
       "    <tr>\n",
       "      <th>0</th>\n",
       "      <td>434.925093</td>\n",
       "      <td>443.864233</td>\n",
       "      <td>444.863294</td>\n",
       "      <td>444.335878</td>\n",
       "      <td>438.592117</td>\n",
       "      <td>446.372976</td>\n",
       "      <td>441.505549</td>\n",
       "      <td>439.338349</td>\n",
       "      <td>438.344422</td>\n",
       "      <td>436.341201</td>\n",
       "    </tr>\n",
       "    <tr>\n",
       "      <th>1</th>\n",
       "      <td>437.976550</td>\n",
       "      <td>441.857307</td>\n",
       "      <td>442.872295</td>\n",
       "      <td>437.575736</td>\n",
       "      <td>435.915825</td>\n",
       "      <td>444.609411</td>\n",
       "      <td>443.231957</td>\n",
       "      <td>437.097241</td>\n",
       "      <td>442.135684</td>\n",
       "      <td>438.355691</td>\n",
       "    </tr>\n",
       "    <tr>\n",
       "      <th>2</th>\n",
       "      <td>426.040415</td>\n",
       "      <td>436.098350</td>\n",
       "      <td>431.509590</td>\n",
       "      <td>431.906256</td>\n",
       "      <td>427.918003</td>\n",
       "      <td>435.965136</td>\n",
       "      <td>432.952843</td>\n",
       "      <td>431.045373</td>\n",
       "      <td>432.054564</td>\n",
       "      <td>431.860328</td>\n",
       "    </tr>\n",
       "    <tr>\n",
       "      <th>3</th>\n",
       "      <td>426.380750</td>\n",
       "      <td>425.172682</td>\n",
       "      <td>428.763826</td>\n",
       "      <td>423.404085</td>\n",
       "      <td>422.755780</td>\n",
       "      <td>427.985536</td>\n",
       "      <td>431.608586</td>\n",
       "      <td>426.708337</td>\n",
       "      <td>431.918308</td>\n",
       "      <td>428.742749</td>\n",
       "    </tr>\n",
       "    <tr>\n",
       "      <th>4</th>\n",
       "      <td>422.977128</td>\n",
       "      <td>426.353451</td>\n",
       "      <td>426.598869</td>\n",
       "      <td>427.166043</td>\n",
       "      <td>424.586606</td>\n",
       "      <td>426.982515</td>\n",
       "      <td>428.461822</td>\n",
       "      <td>424.897772</td>\n",
       "      <td>427.847580</td>\n",
       "      <td>428.237975</td>\n",
       "    </tr>\n",
       "  </tbody>\n",
       "</table>\n",
       "</div>"
      ],
      "text/plain": [
       "            0           1           2           3           4           5  \\\n",
       "0  434.925093  443.864233  444.863294  444.335878  438.592117  446.372976   \n",
       "1  437.976550  441.857307  442.872295  437.575736  435.915825  444.609411   \n",
       "2  426.040415  436.098350  431.509590  431.906256  427.918003  435.965136   \n",
       "3  426.380750  425.172682  428.763826  423.404085  422.755780  427.985536   \n",
       "4  422.977128  426.353451  426.598869  427.166043  424.586606  426.982515   \n",
       "\n",
       "            6           7           8           9  \n",
       "0  441.505549  439.338349  438.344422  436.341201  \n",
       "1  443.231957  437.097241  442.135684  438.355691  \n",
       "2  432.952843  431.045373  432.054564  431.860328  \n",
       "3  431.608586  426.708337  431.918308  428.742749  \n",
       "4  428.461822  424.897772  427.847580  428.237975  "
      ]
     },
     "metadata": {},
     "execution_count": 167
    }
   ],
   "metadata": {}
  },
  {
   "cell_type": "code",
   "execution_count": 168,
   "source": [
    "X_test=tf.reshape(X_test,shape=(X_test.shape[0],X_test.shape[1]))\n",
    "X_test=pd.DataFrame(X_test)\n",
    "X_test.head()"
   ],
   "outputs": [
    {
     "output_type": "execute_result",
     "data": {
      "text/html": [
       "<div>\n",
       "<style scoped>\n",
       "    .dataframe tbody tr th:only-of-type {\n",
       "        vertical-align: middle;\n",
       "    }\n",
       "\n",
       "    .dataframe tbody tr th {\n",
       "        vertical-align: top;\n",
       "    }\n",
       "\n",
       "    .dataframe thead th {\n",
       "        text-align: right;\n",
       "    }\n",
       "</style>\n",
       "<table border=\"1\" class=\"dataframe\">\n",
       "  <thead>\n",
       "    <tr style=\"text-align: right;\">\n",
       "      <th></th>\n",
       "      <th>0</th>\n",
       "      <th>1</th>\n",
       "      <th>2</th>\n",
       "      <th>3</th>\n",
       "      <th>4</th>\n",
       "      <th>5</th>\n",
       "      <th>6</th>\n",
       "      <th>7</th>\n",
       "      <th>8</th>\n",
       "      <th>9</th>\n",
       "      <th>...</th>\n",
       "      <th>80</th>\n",
       "      <th>81</th>\n",
       "      <th>82</th>\n",
       "      <th>83</th>\n",
       "      <th>84</th>\n",
       "      <th>85</th>\n",
       "      <th>86</th>\n",
       "      <th>87</th>\n",
       "      <th>88</th>\n",
       "      <th>89</th>\n",
       "    </tr>\n",
       "  </thead>\n",
       "  <tbody>\n",
       "    <tr>\n",
       "      <th>0</th>\n",
       "      <td>0.374684</td>\n",
       "      <td>0.373413</td>\n",
       "      <td>0.373159</td>\n",
       "      <td>0.395820</td>\n",
       "      <td>0.385002</td>\n",
       "      <td>0.383407</td>\n",
       "      <td>0.390183</td>\n",
       "      <td>0.382793</td>\n",
       "      <td>0.354706</td>\n",
       "      <td>0.345466</td>\n",
       "      <td>...</td>\n",
       "      <td>0.132355</td>\n",
       "      <td>0.130952</td>\n",
       "      <td>0.134038</td>\n",
       "      <td>0.144663</td>\n",
       "      <td>0.146741</td>\n",
       "      <td>0.148161</td>\n",
       "      <td>0.149055</td>\n",
       "      <td>0.142848</td>\n",
       "      <td>0.146662</td>\n",
       "      <td>0.140788</td>\n",
       "    </tr>\n",
       "    <tr>\n",
       "      <th>1</th>\n",
       "      <td>0.373413</td>\n",
       "      <td>0.373159</td>\n",
       "      <td>0.395820</td>\n",
       "      <td>0.385002</td>\n",
       "      <td>0.383407</td>\n",
       "      <td>0.390183</td>\n",
       "      <td>0.382793</td>\n",
       "      <td>0.354706</td>\n",
       "      <td>0.345466</td>\n",
       "      <td>0.347088</td>\n",
       "      <td>...</td>\n",
       "      <td>0.130952</td>\n",
       "      <td>0.134038</td>\n",
       "      <td>0.144663</td>\n",
       "      <td>0.146741</td>\n",
       "      <td>0.148161</td>\n",
       "      <td>0.149055</td>\n",
       "      <td>0.142848</td>\n",
       "      <td>0.146662</td>\n",
       "      <td>0.140788</td>\n",
       "      <td>0.143208</td>\n",
       "    </tr>\n",
       "    <tr>\n",
       "      <th>2</th>\n",
       "      <td>0.373159</td>\n",
       "      <td>0.395820</td>\n",
       "      <td>0.385002</td>\n",
       "      <td>0.383407</td>\n",
       "      <td>0.390183</td>\n",
       "      <td>0.382793</td>\n",
       "      <td>0.354706</td>\n",
       "      <td>0.345466</td>\n",
       "      <td>0.347088</td>\n",
       "      <td>0.334526</td>\n",
       "      <td>...</td>\n",
       "      <td>0.134038</td>\n",
       "      <td>0.144663</td>\n",
       "      <td>0.146741</td>\n",
       "      <td>0.148161</td>\n",
       "      <td>0.149055</td>\n",
       "      <td>0.142848</td>\n",
       "      <td>0.146662</td>\n",
       "      <td>0.140788</td>\n",
       "      <td>0.143208</td>\n",
       "      <td>0.133687</td>\n",
       "    </tr>\n",
       "    <tr>\n",
       "      <th>3</th>\n",
       "      <td>0.395820</td>\n",
       "      <td>0.385002</td>\n",
       "      <td>0.383407</td>\n",
       "      <td>0.390183</td>\n",
       "      <td>0.382793</td>\n",
       "      <td>0.354706</td>\n",
       "      <td>0.345466</td>\n",
       "      <td>0.347088</td>\n",
       "      <td>0.334526</td>\n",
       "      <td>0.346290</td>\n",
       "      <td>...</td>\n",
       "      <td>0.144663</td>\n",
       "      <td>0.146741</td>\n",
       "      <td>0.148161</td>\n",
       "      <td>0.149055</td>\n",
       "      <td>0.142848</td>\n",
       "      <td>0.146662</td>\n",
       "      <td>0.140788</td>\n",
       "      <td>0.143208</td>\n",
       "      <td>0.133687</td>\n",
       "      <td>0.134363</td>\n",
       "    </tr>\n",
       "    <tr>\n",
       "      <th>4</th>\n",
       "      <td>0.385002</td>\n",
       "      <td>0.383407</td>\n",
       "      <td>0.390183</td>\n",
       "      <td>0.382793</td>\n",
       "      <td>0.354706</td>\n",
       "      <td>0.345466</td>\n",
       "      <td>0.347088</td>\n",
       "      <td>0.334526</td>\n",
       "      <td>0.346290</td>\n",
       "      <td>0.338409</td>\n",
       "      <td>...</td>\n",
       "      <td>0.146741</td>\n",
       "      <td>0.148161</td>\n",
       "      <td>0.149055</td>\n",
       "      <td>0.142848</td>\n",
       "      <td>0.146662</td>\n",
       "      <td>0.140788</td>\n",
       "      <td>0.143208</td>\n",
       "      <td>0.133687</td>\n",
       "      <td>0.134363</td>\n",
       "      <td>0.134021</td>\n",
       "    </tr>\n",
       "  </tbody>\n",
       "</table>\n",
       "<p>5 rows × 90 columns</p>\n",
       "</div>"
      ],
      "text/plain": [
       "         0         1         2         3         4         5         6   \\\n",
       "0  0.374684  0.373413  0.373159  0.395820  0.385002  0.383407  0.390183   \n",
       "1  0.373413  0.373159  0.395820  0.385002  0.383407  0.390183  0.382793   \n",
       "2  0.373159  0.395820  0.385002  0.383407  0.390183  0.382793  0.354706   \n",
       "3  0.395820  0.385002  0.383407  0.390183  0.382793  0.354706  0.345466   \n",
       "4  0.385002  0.383407  0.390183  0.382793  0.354706  0.345466  0.347088   \n",
       "\n",
       "         7         8         9   ...        80        81        82        83  \\\n",
       "0  0.382793  0.354706  0.345466  ...  0.132355  0.130952  0.134038  0.144663   \n",
       "1  0.354706  0.345466  0.347088  ...  0.130952  0.134038  0.144663  0.146741   \n",
       "2  0.345466  0.347088  0.334526  ...  0.134038  0.144663  0.146741  0.148161   \n",
       "3  0.347088  0.334526  0.346290  ...  0.144663  0.146741  0.148161  0.149055   \n",
       "4  0.334526  0.346290  0.338409  ...  0.146741  0.148161  0.149055  0.142848   \n",
       "\n",
       "         84        85        86        87        88        89  \n",
       "0  0.146741  0.148161  0.149055  0.142848  0.146662  0.140788  \n",
       "1  0.148161  0.149055  0.142848  0.146662  0.140788  0.143208  \n",
       "2  0.149055  0.142848  0.146662  0.140788  0.143208  0.133687  \n",
       "3  0.142848  0.146662  0.140788  0.143208  0.133687  0.134363  \n",
       "4  0.146662  0.140788  0.143208  0.133687  0.134363  0.134021  \n",
       "\n",
       "[5 rows x 90 columns]"
      ]
     },
     "metadata": {},
     "execution_count": 168
    }
   ],
   "metadata": {}
  },
  {
   "cell_type": "markdown",
   "source": [
    "ligne par ligne on va mettre bout à bout (X_test,y_pred) et comparer avec (X_test,y_test)"
   ],
   "metadata": {}
  },
  {
   "cell_type": "code",
   "execution_count": 169,
   "source": [
    "X_test=scalerX.inverse_transform(X_test)"
   ],
   "outputs": [],
   "metadata": {}
  },
  {
   "cell_type": "code",
   "execution_count": 170,
   "source": [
    "X_test=pd.DataFrame(X_test)\n",
    "predictions=pd.concat([X_test,y_pred], axis=1, ignore_index=True)"
   ],
   "outputs": [],
   "metadata": {}
  },
  {
   "cell_type": "code",
   "execution_count": 171,
   "source": [
    "y_test=tf.reshape(y_test,shape=(y_test.shape[0],y_test.shape[1]))\n",
    "y_test=scalerY.inverse_transform(y_test)\n",
    "y_test=pd.DataFrame(y_test)\n",
    "y_test.head()"
   ],
   "outputs": [
    {
     "output_type": "execute_result",
     "data": {
      "text/html": [
       "<div>\n",
       "<style scoped>\n",
       "    .dataframe tbody tr th:only-of-type {\n",
       "        vertical-align: middle;\n",
       "    }\n",
       "\n",
       "    .dataframe tbody tr th {\n",
       "        vertical-align: top;\n",
       "    }\n",
       "\n",
       "    .dataframe thead th {\n",
       "        text-align: right;\n",
       "    }\n",
       "</style>\n",
       "<table border=\"1\" class=\"dataframe\">\n",
       "  <thead>\n",
       "    <tr style=\"text-align: right;\">\n",
       "      <th></th>\n",
       "      <th>0</th>\n",
       "      <th>1</th>\n",
       "      <th>2</th>\n",
       "      <th>3</th>\n",
       "      <th>4</th>\n",
       "      <th>5</th>\n",
       "      <th>6</th>\n",
       "      <th>7</th>\n",
       "      <th>8</th>\n",
       "      <th>9</th>\n",
       "    </tr>\n",
       "  </thead>\n",
       "  <tbody>\n",
       "    <tr>\n",
       "      <th>0</th>\n",
       "      <td>441.34</td>\n",
       "      <td>430.48</td>\n",
       "      <td>431.25</td>\n",
       "      <td>430.86</td>\n",
       "      <td>433.99</td>\n",
       "      <td>427.36</td>\n",
       "      <td>430.34</td>\n",
       "      <td>434.70</td>\n",
       "      <td>432.81</td>\n",
       "      <td>431.37</td>\n",
       "    </tr>\n",
       "    <tr>\n",
       "      <th>1</th>\n",
       "      <td>430.48</td>\n",
       "      <td>431.25</td>\n",
       "      <td>430.86</td>\n",
       "      <td>433.99</td>\n",
       "      <td>427.36</td>\n",
       "      <td>430.34</td>\n",
       "      <td>434.70</td>\n",
       "      <td>432.81</td>\n",
       "      <td>431.37</td>\n",
       "      <td>418.18</td>\n",
       "    </tr>\n",
       "    <tr>\n",
       "      <th>2</th>\n",
       "      <td>431.25</td>\n",
       "      <td>430.86</td>\n",
       "      <td>433.99</td>\n",
       "      <td>427.36</td>\n",
       "      <td>430.34</td>\n",
       "      <td>434.70</td>\n",
       "      <td>432.81</td>\n",
       "      <td>431.37</td>\n",
       "      <td>418.18</td>\n",
       "      <td>433.55</td>\n",
       "    </tr>\n",
       "    <tr>\n",
       "      <th>3</th>\n",
       "      <td>430.86</td>\n",
       "      <td>433.99</td>\n",
       "      <td>427.36</td>\n",
       "      <td>430.34</td>\n",
       "      <td>434.70</td>\n",
       "      <td>432.81</td>\n",
       "      <td>431.37</td>\n",
       "      <td>418.18</td>\n",
       "      <td>433.55</td>\n",
       "      <td>435.72</td>\n",
       "    </tr>\n",
       "    <tr>\n",
       "      <th>4</th>\n",
       "      <td>433.99</td>\n",
       "      <td>427.36</td>\n",
       "      <td>430.34</td>\n",
       "      <td>434.70</td>\n",
       "      <td>432.81</td>\n",
       "      <td>431.37</td>\n",
       "      <td>418.18</td>\n",
       "      <td>433.55</td>\n",
       "      <td>435.72</td>\n",
       "      <td>447.93</td>\n",
       "    </tr>\n",
       "  </tbody>\n",
       "</table>\n",
       "</div>"
      ],
      "text/plain": [
       "        0       1       2       3       4       5       6       7       8  \\\n",
       "0  441.34  430.48  431.25  430.86  433.99  427.36  430.34  434.70  432.81   \n",
       "1  430.48  431.25  430.86  433.99  427.36  430.34  434.70  432.81  431.37   \n",
       "2  431.25  430.86  433.99  427.36  430.34  434.70  432.81  431.37  418.18   \n",
       "3  430.86  433.99  427.36  430.34  434.70  432.81  431.37  418.18  433.55   \n",
       "4  433.99  427.36  430.34  434.70  432.81  431.37  418.18  433.55  435.72   \n",
       "\n",
       "        9  \n",
       "0  431.37  \n",
       "1  418.18  \n",
       "2  433.55  \n",
       "3  435.72  \n",
       "4  447.93  "
      ]
     },
     "metadata": {},
     "execution_count": 171
    }
   ],
   "metadata": {}
  },
  {
   "cell_type": "code",
   "execution_count": 172,
   "source": [
    "test=pd.concat([X_test,y_test], axis=1, ignore_index=True)\n",
    "#test=pd.DataFrame(test, columns=colsnames)"
   ],
   "outputs": [],
   "metadata": {}
  },
  {
   "cell_type": "markdown",
   "source": [
    "Est ce que toutes les matrices de données séquentielles sont symétriques?"
   ],
   "metadata": {}
  },
  {
   "cell_type": "code",
   "execution_count": 173,
   "source": [
    "predictions.head()"
   ],
   "outputs": [
    {
     "output_type": "execute_result",
     "data": {
      "text/html": [
       "<div>\n",
       "<style scoped>\n",
       "    .dataframe tbody tr th:only-of-type {\n",
       "        vertical-align: middle;\n",
       "    }\n",
       "\n",
       "    .dataframe tbody tr th {\n",
       "        vertical-align: top;\n",
       "    }\n",
       "\n",
       "    .dataframe thead th {\n",
       "        text-align: right;\n",
       "    }\n",
       "</style>\n",
       "<table border=\"1\" class=\"dataframe\">\n",
       "  <thead>\n",
       "    <tr style=\"text-align: right;\">\n",
       "      <th></th>\n",
       "      <th>0</th>\n",
       "      <th>1</th>\n",
       "      <th>2</th>\n",
       "      <th>3</th>\n",
       "      <th>4</th>\n",
       "      <th>5</th>\n",
       "      <th>6</th>\n",
       "      <th>7</th>\n",
       "      <th>8</th>\n",
       "      <th>9</th>\n",
       "      <th>...</th>\n",
       "      <th>90</th>\n",
       "      <th>91</th>\n",
       "      <th>92</th>\n",
       "      <th>93</th>\n",
       "      <th>94</th>\n",
       "      <th>95</th>\n",
       "      <th>96</th>\n",
       "      <th>97</th>\n",
       "      <th>98</th>\n",
       "      <th>99</th>\n",
       "    </tr>\n",
       "  </thead>\n",
       "  <tbody>\n",
       "    <tr>\n",
       "      <th>0</th>\n",
       "      <td>705.39</td>\n",
       "      <td>703.94</td>\n",
       "      <td>703.65</td>\n",
       "      <td>729.50</td>\n",
       "      <td>717.16</td>\n",
       "      <td>715.34</td>\n",
       "      <td>723.07</td>\n",
       "      <td>714.64</td>\n",
       "      <td>682.60</td>\n",
       "      <td>672.06</td>\n",
       "      <td>...</td>\n",
       "      <td>434.925093</td>\n",
       "      <td>443.864233</td>\n",
       "      <td>444.863294</td>\n",
       "      <td>444.335878</td>\n",
       "      <td>438.592117</td>\n",
       "      <td>446.372976</td>\n",
       "      <td>441.505549</td>\n",
       "      <td>439.338349</td>\n",
       "      <td>438.344422</td>\n",
       "      <td>436.341201</td>\n",
       "    </tr>\n",
       "    <tr>\n",
       "      <th>1</th>\n",
       "      <td>703.94</td>\n",
       "      <td>703.65</td>\n",
       "      <td>729.50</td>\n",
       "      <td>717.16</td>\n",
       "      <td>715.34</td>\n",
       "      <td>723.07</td>\n",
       "      <td>714.64</td>\n",
       "      <td>682.60</td>\n",
       "      <td>672.06</td>\n",
       "      <td>673.91</td>\n",
       "      <td>...</td>\n",
       "      <td>437.976550</td>\n",
       "      <td>441.857307</td>\n",
       "      <td>442.872295</td>\n",
       "      <td>437.575736</td>\n",
       "      <td>435.915825</td>\n",
       "      <td>444.609411</td>\n",
       "      <td>443.231957</td>\n",
       "      <td>437.097241</td>\n",
       "      <td>442.135684</td>\n",
       "      <td>438.355691</td>\n",
       "    </tr>\n",
       "    <tr>\n",
       "      <th>2</th>\n",
       "      <td>703.65</td>\n",
       "      <td>729.50</td>\n",
       "      <td>717.16</td>\n",
       "      <td>715.34</td>\n",
       "      <td>723.07</td>\n",
       "      <td>714.64</td>\n",
       "      <td>682.60</td>\n",
       "      <td>672.06</td>\n",
       "      <td>673.91</td>\n",
       "      <td>659.58</td>\n",
       "      <td>...</td>\n",
       "      <td>426.040415</td>\n",
       "      <td>436.098350</td>\n",
       "      <td>431.509590</td>\n",
       "      <td>431.906256</td>\n",
       "      <td>427.918003</td>\n",
       "      <td>435.965136</td>\n",
       "      <td>432.952843</td>\n",
       "      <td>431.045373</td>\n",
       "      <td>432.054564</td>\n",
       "      <td>431.860328</td>\n",
       "    </tr>\n",
       "    <tr>\n",
       "      <th>3</th>\n",
       "      <td>729.50</td>\n",
       "      <td>717.16</td>\n",
       "      <td>715.34</td>\n",
       "      <td>723.07</td>\n",
       "      <td>714.64</td>\n",
       "      <td>682.60</td>\n",
       "      <td>672.06</td>\n",
       "      <td>673.91</td>\n",
       "      <td>659.58</td>\n",
       "      <td>673.00</td>\n",
       "      <td>...</td>\n",
       "      <td>426.380750</td>\n",
       "      <td>425.172682</td>\n",
       "      <td>428.763826</td>\n",
       "      <td>423.404085</td>\n",
       "      <td>422.755780</td>\n",
       "      <td>427.985536</td>\n",
       "      <td>431.608586</td>\n",
       "      <td>426.708337</td>\n",
       "      <td>431.918308</td>\n",
       "      <td>428.742749</td>\n",
       "    </tr>\n",
       "    <tr>\n",
       "      <th>4</th>\n",
       "      <td>717.16</td>\n",
       "      <td>715.34</td>\n",
       "      <td>723.07</td>\n",
       "      <td>714.64</td>\n",
       "      <td>682.60</td>\n",
       "      <td>672.06</td>\n",
       "      <td>673.91</td>\n",
       "      <td>659.58</td>\n",
       "      <td>673.00</td>\n",
       "      <td>664.01</td>\n",
       "      <td>...</td>\n",
       "      <td>422.977128</td>\n",
       "      <td>426.353451</td>\n",
       "      <td>426.598869</td>\n",
       "      <td>427.166043</td>\n",
       "      <td>424.586606</td>\n",
       "      <td>426.982515</td>\n",
       "      <td>428.461822</td>\n",
       "      <td>424.897772</td>\n",
       "      <td>427.847580</td>\n",
       "      <td>428.237975</td>\n",
       "    </tr>\n",
       "  </tbody>\n",
       "</table>\n",
       "<p>5 rows × 100 columns</p>\n",
       "</div>"
      ],
      "text/plain": [
       "       0       1       2       3       4       5       6       7       8   \\\n",
       "0  705.39  703.94  703.65  729.50  717.16  715.34  723.07  714.64  682.60   \n",
       "1  703.94  703.65  729.50  717.16  715.34  723.07  714.64  682.60  672.06   \n",
       "2  703.65  729.50  717.16  715.34  723.07  714.64  682.60  672.06  673.91   \n",
       "3  729.50  717.16  715.34  723.07  714.64  682.60  672.06  673.91  659.58   \n",
       "4  717.16  715.34  723.07  714.64  682.60  672.06  673.91  659.58  673.00   \n",
       "\n",
       "       9   ...          90          91          92          93          94  \\\n",
       "0  672.06  ...  434.925093  443.864233  444.863294  444.335878  438.592117   \n",
       "1  673.91  ...  437.976550  441.857307  442.872295  437.575736  435.915825   \n",
       "2  659.58  ...  426.040415  436.098350  431.509590  431.906256  427.918003   \n",
       "3  673.00  ...  426.380750  425.172682  428.763826  423.404085  422.755780   \n",
       "4  664.01  ...  422.977128  426.353451  426.598869  427.166043  424.586606   \n",
       "\n",
       "           95          96          97          98          99  \n",
       "0  446.372976  441.505549  439.338349  438.344422  436.341201  \n",
       "1  444.609411  443.231957  437.097241  442.135684  438.355691  \n",
       "2  435.965136  432.952843  431.045373  432.054564  431.860328  \n",
       "3  427.985536  431.608586  426.708337  431.918308  428.742749  \n",
       "4  426.982515  428.461822  424.897772  427.847580  428.237975  \n",
       "\n",
       "[5 rows x 100 columns]"
      ]
     },
     "metadata": {},
     "execution_count": 173
    }
   ],
   "metadata": {}
  },
  {
   "cell_type": "code",
   "execution_count": 174,
   "source": [
    "predictions[99:100][0]"
   ],
   "outputs": [
    {
     "output_type": "execute_result",
     "data": {
      "text/plain": [
       "99    431.37\n",
       "Name: 0, dtype: float64"
      ]
     },
     "metadata": {},
     "execution_count": 174
    }
   ],
   "metadata": {}
  },
  {
   "cell_type": "code",
   "execution_count": 175,
   "source": [
    "def truc_que_je_vais_plot(predictions, num_col):\n",
    "    a=[]\n",
    "    for i in range(0,100):\n",
    "        a.append(predictions[i][num_col])\n",
    "    return a"
   ],
   "outputs": [],
   "metadata": {}
  },
  {
   "cell_type": "code",
   "execution_count": 176,
   "source": [
    "result_pred=truc_que_je_vais_plot(predictions,90)\n",
    "result_test=truc_que_je_vais_plot(test, 90)"
   ],
   "outputs": [],
   "metadata": {}
  },
  {
   "cell_type": "markdown",
   "source": [
    "Note : ce n'est pas le result_test exact car le scaler a été sur des données qui peuvent avoir changé d'échelle depuis."
   ],
   "metadata": {}
  },
  {
   "cell_type": "code",
   "execution_count": 177,
   "source": [
    "plt.plot(result_pred[70:100], color='r')\n",
    "plt.plot(result_test[70:100], color='g')\n",
    "plt.show()"
   ],
   "outputs": [
    {
     "output_type": "display_data",
     "data": {
      "image/png": "[encoded data removed]",
      "text/plain": [
       "<Figure size 432x288 with 1 Axes>"
      ]
     },
     "metadata": {
      "needs_background": "light"
     }
    }
   ],
   "metadata": {}
  },
  {
   "cell_type": "markdown",
   "source": [
    "Ouais pour la ligne 10 on voit vraiment bien l'opposition de phase."
   ],
   "metadata": {}
  },
  {
   "cell_type": "markdown",
   "source": [
    "On voit dans plot_2 qu'on est parfois en phase parfois à l'opposé mais plutôt pas mal niveau amplitude, selon un certain axe."
   ],
   "metadata": {}
  },
  {
   "cell_type": "markdown",
   "source": [
    "On voit dans premier_plot que le modèle prédit le mouvement mais moins bien l'amplitude. Une sorte de biais?"
   ],
   "metadata": {}
  },
  {
   "cell_type": "markdown",
   "source": [
    "Pour moi un indicateur de performance stylé est le suivant : à quelle fréquence le modèle prédit une hausse à juste titre?"
   ],
   "metadata": {}
  },
  {
   "cell_type": "code",
   "execution_count": 178,
   "source": [
    "def ma_loss(y_pred,y_test):\n",
    "    score=0\n",
    "    scores=[]\n",
    "    for i in range(0, y_pred.shape[0]):#parcours de toutes nos séquences testées.\n",
    "        move_pred=''#le move qu'on prédit\n",
    "        if y_pred[99][i]-y_pred[98][i]>0:\n",
    "            move_pred='UP'\n",
    "        else:\n",
    "            move_pred='DOWN'\n",
    "\n",
    "        move_truth=''#ce qu'il s'est vraiment passé\n",
    "        if y_test[99][i]-y_test[98][i]>0:\n",
    "            move_truth='UP'\n",
    "        else:\n",
    "            move_truth='DOWN'\n",
    "\n",
    "        if move_truth==move_pred:\n",
    "            score+=1\n",
    "            scores.append((score)/(i+1))\n",
    "        else:\n",
    "            scores.append((score)/(i+1))\n",
    "        \n",
    "    return scores      "
   ],
   "outputs": [],
   "metadata": {}
  },
  {
   "cell_type": "markdown",
   "source": [
    "va permettre de voir si on perd en qualité au fur et à mesure qu'on s'éloigne de l'ordre des données qui ont réalisé l'entrainement."
   ],
   "metadata": {}
  },
  {
   "cell_type": "code",
   "execution_count": 179,
   "source": [
    "truc=ma_loss(test,predictions)\n",
    "plt.plot(truc)"
   ],
   "outputs": [
    {
     "output_type": "execute_result",
     "data": {
      "text/plain": [
       "[<matplotlib.lines.Line2D at 0x28c1283a0>]"
      ]
     },
     "metadata": {},
     "execution_count": 179
    },
    {
     "output_type": "display_data",
     "data": {
      "image/png": "[encoded data removed]",
      "text/plain": [
       "<Figure size 432x288 with 1 Axes>"
      ]
     },
     "metadata": {
      "needs_background": "light"
     }
    }
   ],
   "metadata": {}
  },
  {
   "cell_type": "markdown",
   "source": [
    "ça commence à décroitre autour de 120 jours. ->ré entrainer?"
   ],
   "metadata": {}
  },
  {
   "cell_type": "code",
   "execution_count": 180,
   "source": [
    "plt.plot(truc[80:200])"
   ],
   "outputs": [
    {
     "output_type": "execute_result",
     "data": {
      "text/plain": [
       "[<matplotlib.lines.Line2D at 0x29748aa30>]"
      ]
     },
     "metadata": {},
     "execution_count": 180
    },
    {
     "output_type": "display_data",
     "data": {
      "image/png": "[encoded data removed]",
      "text/plain": [
       "<Figure size 432x288 with 1 Axes>"
      ]
     },
     "metadata": {
      "needs_background": "light"
     }
    }
   ],
   "metadata": {}
  },
  {
   "cell_type": "markdown",
   "source": [
    "s'adapter de sorte à bet que lorsque l'algo est à peak performance?"
   ],
   "metadata": {}
  },
  {
   "cell_type": "markdown",
   "source": [
    "random thoughts :\n",
    "\n",
    "- à ce stade tout ce qu'on a c'est un algo qui prédit le mouvement du marché jusqu'à 9% mieux que le hasard.\n",
    "\n",
    "- il faudrait qu'on essaye d'avoir un truc qui se déclenche quand une action est prise. Parce qu'il n'y a que la qu'on perd ou gagne vraiment."
   ],
   "metadata": {}
  }
 ],
 "metadata": {
  "orig_nbformat": 4,
  "language_info": {
   "name": "python",
   "version": "3.8.12",
   "mimetype": "text/x-python",
   "codemirror_mode": {
    "name": "ipython",
    "version": 3
   },
   "pygments_lexer": "ipython3",
   "nbconvert_exporter": "python",
   "file_extension": ".py"
  },
  "kernelspec": {
   "name": "python3",
   "display_name": "Python 3.8.12 64-bit ('trading': conda)"
  },
  "interpreter": {
   "hash": "8f5440d9713b916f3d328aa7ad704af8c98a6d911bc0a89d770b9e825ea2bbc1"
  }
 },
 "nbformat": 4,
 "nbformat_minor": 2
}